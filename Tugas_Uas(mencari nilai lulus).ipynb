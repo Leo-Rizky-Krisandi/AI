{
  "nbformat": 4,
  "nbformat_minor": 0,
  "metadata": {
    "colab": {
      "name": "Tugas_Uas.ipynb",
      "provenance": [],
      "collapsed_sections": [],
      "authorship_tag": "ABX9TyPn3f2rF1AkokEtCuAJ/Bmq",
      "include_colab_link": true
    },
    "kernelspec": {
      "display_name": "Python 3",
      "name": "python3"
    },
    "language_info": {
      "name": "python"
    }
  },
  "cells": [
    {
      "cell_type": "markdown",
      "metadata": {
        "id": "view-in-github",
        "colab_type": "text"
      },
      "source": [
        "<a href=\"https://colab.research.google.com/github/Leorizky19/AI/blob/main/Tugas_Uas(mencari%20nilai%20lulus).ipynb\" target=\"_parent\"><img src=\"https://colab.research.google.com/assets/colab-badge.svg\" alt=\"Open In Colab\"/></a>"
      ]
    },
    {
      "cell_type": "code",
      "metadata": {
        "colab": {
          "base_uri": "https://localhost:8080/"
        },
        "id": "cwm-PU3gE6TV",
        "outputId": "e8ace09e-88b2-4a9b-d2bd-d326ef75988e"
      },
      "source": [
        "pip install scikit-fuzzy"
      ],
      "execution_count": null,
      "outputs": [
        {
          "output_type": "stream",
          "name": "stdout",
          "text": [
            "Collecting scikit-fuzzy\n",
            "  Downloading scikit-fuzzy-0.4.2.tar.gz (993 kB)\n",
            "\u001b[?25l\r\u001b[K     |▎                               | 10 kB 21.9 MB/s eta 0:00:01\r\u001b[K     |▋                               | 20 kB 27.8 MB/s eta 0:00:01\r\u001b[K     |█                               | 30 kB 20.7 MB/s eta 0:00:01\r\u001b[K     |█▎                              | 40 kB 20.2 MB/s eta 0:00:01\r\u001b[K     |█▋                              | 51 kB 7.9 MB/s eta 0:00:01\r\u001b[K     |██                              | 61 kB 9.1 MB/s eta 0:00:01\r\u001b[K     |██▎                             | 71 kB 8.4 MB/s eta 0:00:01\r\u001b[K     |██▋                             | 81 kB 9.2 MB/s eta 0:00:01\r\u001b[K     |███                             | 92 kB 10.2 MB/s eta 0:00:01\r\u001b[K     |███▎                            | 102 kB 7.6 MB/s eta 0:00:01\r\u001b[K     |███▋                            | 112 kB 7.6 MB/s eta 0:00:01\r\u001b[K     |████                            | 122 kB 7.6 MB/s eta 0:00:01\r\u001b[K     |████▎                           | 133 kB 7.6 MB/s eta 0:00:01\r\u001b[K     |████▋                           | 143 kB 7.6 MB/s eta 0:00:01\r\u001b[K     |█████                           | 153 kB 7.6 MB/s eta 0:00:01\r\u001b[K     |█████▎                          | 163 kB 7.6 MB/s eta 0:00:01\r\u001b[K     |█████▋                          | 174 kB 7.6 MB/s eta 0:00:01\r\u001b[K     |██████                          | 184 kB 7.6 MB/s eta 0:00:01\r\u001b[K     |██████▎                         | 194 kB 7.6 MB/s eta 0:00:01\r\u001b[K     |██████▋                         | 204 kB 7.6 MB/s eta 0:00:01\r\u001b[K     |███████                         | 215 kB 7.6 MB/s eta 0:00:01\r\u001b[K     |███████▎                        | 225 kB 7.6 MB/s eta 0:00:01\r\u001b[K     |███████▋                        | 235 kB 7.6 MB/s eta 0:00:01\r\u001b[K     |████████                        | 245 kB 7.6 MB/s eta 0:00:01\r\u001b[K     |████████▎                       | 256 kB 7.6 MB/s eta 0:00:01\r\u001b[K     |████████▋                       | 266 kB 7.6 MB/s eta 0:00:01\r\u001b[K     |█████████                       | 276 kB 7.6 MB/s eta 0:00:01\r\u001b[K     |█████████▎                      | 286 kB 7.6 MB/s eta 0:00:01\r\u001b[K     |█████████▋                      | 296 kB 7.6 MB/s eta 0:00:01\r\u001b[K     |██████████                      | 307 kB 7.6 MB/s eta 0:00:01\r\u001b[K     |██████████▏                     | 317 kB 7.6 MB/s eta 0:00:01\r\u001b[K     |██████████▌                     | 327 kB 7.6 MB/s eta 0:00:01\r\u001b[K     |██████████▉                     | 337 kB 7.6 MB/s eta 0:00:01\r\u001b[K     |███████████▏                    | 348 kB 7.6 MB/s eta 0:00:01\r\u001b[K     |███████████▌                    | 358 kB 7.6 MB/s eta 0:00:01\r\u001b[K     |███████████▉                    | 368 kB 7.6 MB/s eta 0:00:01\r\u001b[K     |████████████▏                   | 378 kB 7.6 MB/s eta 0:00:01\r\u001b[K     |████████████▌                   | 389 kB 7.6 MB/s eta 0:00:01\r\u001b[K     |████████████▉                   | 399 kB 7.6 MB/s eta 0:00:01\r\u001b[K     |█████████████▏                  | 409 kB 7.6 MB/s eta 0:00:01\r\u001b[K     |█████████████▌                  | 419 kB 7.6 MB/s eta 0:00:01\r\u001b[K     |█████████████▉                  | 430 kB 7.6 MB/s eta 0:00:01\r\u001b[K     |██████████████▏                 | 440 kB 7.6 MB/s eta 0:00:01\r\u001b[K     |██████████████▌                 | 450 kB 7.6 MB/s eta 0:00:01\r\u001b[K     |██████████████▉                 | 460 kB 7.6 MB/s eta 0:00:01\r\u001b[K     |███████████████▏                | 471 kB 7.6 MB/s eta 0:00:01\r\u001b[K     |███████████████▌                | 481 kB 7.6 MB/s eta 0:00:01\r\u001b[K     |███████████████▉                | 491 kB 7.6 MB/s eta 0:00:01\r\u001b[K     |████████████████▏               | 501 kB 7.6 MB/s eta 0:00:01\r\u001b[K     |████████████████▌               | 512 kB 7.6 MB/s eta 0:00:01\r\u001b[K     |████████████████▉               | 522 kB 7.6 MB/s eta 0:00:01\r\u001b[K     |█████████████████▏              | 532 kB 7.6 MB/s eta 0:00:01\r\u001b[K     |█████████████████▌              | 542 kB 7.6 MB/s eta 0:00:01\r\u001b[K     |█████████████████▉              | 552 kB 7.6 MB/s eta 0:00:01\r\u001b[K     |██████████████████▏             | 563 kB 7.6 MB/s eta 0:00:01\r\u001b[K     |██████████████████▌             | 573 kB 7.6 MB/s eta 0:00:01\r\u001b[K     |██████████████████▉             | 583 kB 7.6 MB/s eta 0:00:01\r\u001b[K     |███████████████████▏            | 593 kB 7.6 MB/s eta 0:00:01\r\u001b[K     |███████████████████▌            | 604 kB 7.6 MB/s eta 0:00:01\r\u001b[K     |███████████████████▉            | 614 kB 7.6 MB/s eta 0:00:01\r\u001b[K     |████████████████████            | 624 kB 7.6 MB/s eta 0:00:01\r\u001b[K     |████████████████████▍           | 634 kB 7.6 MB/s eta 0:00:01\r\u001b[K     |████████████████████▊           | 645 kB 7.6 MB/s eta 0:00:01\r\u001b[K     |█████████████████████           | 655 kB 7.6 MB/s eta 0:00:01\r\u001b[K     |█████████████████████▍          | 665 kB 7.6 MB/s eta 0:00:01\r\u001b[K     |█████████████████████▊          | 675 kB 7.6 MB/s eta 0:00:01\r\u001b[K     |██████████████████████          | 686 kB 7.6 MB/s eta 0:00:01\r\u001b[K     |██████████████████████▍         | 696 kB 7.6 MB/s eta 0:00:01\r\u001b[K     |██████████████████████▊         | 706 kB 7.6 MB/s eta 0:00:01\r\u001b[K     |███████████████████████         | 716 kB 7.6 MB/s eta 0:00:01\r\u001b[K     |███████████████████████▍        | 727 kB 7.6 MB/s eta 0:00:01\r\u001b[K     |███████████████████████▊        | 737 kB 7.6 MB/s eta 0:00:01\r\u001b[K     |████████████████████████        | 747 kB 7.6 MB/s eta 0:00:01\r\u001b[K     |████████████████████████▍       | 757 kB 7.6 MB/s eta 0:00:01\r\u001b[K     |████████████████████████▊       | 768 kB 7.6 MB/s eta 0:00:01\r\u001b[K     |█████████████████████████       | 778 kB 7.6 MB/s eta 0:00:01\r\u001b[K     |█████████████████████████▍      | 788 kB 7.6 MB/s eta 0:00:01\r\u001b[K     |█████████████████████████▊      | 798 kB 7.6 MB/s eta 0:00:01\r\u001b[K     |██████████████████████████      | 808 kB 7.6 MB/s eta 0:00:01\r\u001b[K     |██████████████████████████▍     | 819 kB 7.6 MB/s eta 0:00:01\r\u001b[K     |██████████████████████████▊     | 829 kB 7.6 MB/s eta 0:00:01\r\u001b[K     |███████████████████████████     | 839 kB 7.6 MB/s eta 0:00:01\r\u001b[K     |███████████████████████████▍    | 849 kB 7.6 MB/s eta 0:00:01\r\u001b[K     |███████████████████████████▊    | 860 kB 7.6 MB/s eta 0:00:01\r\u001b[K     |████████████████████████████    | 870 kB 7.6 MB/s eta 0:00:01\r\u001b[K     |████████████████████████████▍   | 880 kB 7.6 MB/s eta 0:00:01\r\u001b[K     |████████████████████████████▊   | 890 kB 7.6 MB/s eta 0:00:01\r\u001b[K     |█████████████████████████████   | 901 kB 7.6 MB/s eta 0:00:01\r\u001b[K     |█████████████████████████████▍  | 911 kB 7.6 MB/s eta 0:00:01\r\u001b[K     |█████████████████████████████▊  | 921 kB 7.6 MB/s eta 0:00:01\r\u001b[K     |██████████████████████████████  | 931 kB 7.6 MB/s eta 0:00:01\r\u001b[K     |██████████████████████████████▎ | 942 kB 7.6 MB/s eta 0:00:01\r\u001b[K     |██████████████████████████████▋ | 952 kB 7.6 MB/s eta 0:00:01\r\u001b[K     |███████████████████████████████ | 962 kB 7.6 MB/s eta 0:00:01\r\u001b[K     |███████████████████████████████▎| 972 kB 7.6 MB/s eta 0:00:01\r\u001b[K     |███████████████████████████████▋| 983 kB 7.6 MB/s eta 0:00:01\r\u001b[K     |████████████████████████████████| 993 kB 7.6 MB/s eta 0:00:01\r\u001b[K     |████████████████████████████████| 993 kB 7.6 MB/s \n",
            "\u001b[?25hRequirement already satisfied: numpy>=1.6.0 in /usr/local/lib/python3.7/dist-packages (from scikit-fuzzy) (1.19.5)\n",
            "Requirement already satisfied: scipy>=0.9.0 in /usr/local/lib/python3.7/dist-packages (from scikit-fuzzy) (1.4.1)\n",
            "Requirement already satisfied: networkx>=1.9.0 in /usr/local/lib/python3.7/dist-packages (from scikit-fuzzy) (2.6.3)\n",
            "Building wheels for collected packages: scikit-fuzzy\n",
            "  Building wheel for scikit-fuzzy (setup.py) ... \u001b[?25l\u001b[?25hdone\n",
            "  Created wheel for scikit-fuzzy: filename=scikit_fuzzy-0.4.2-py3-none-any.whl size=894089 sha256=640e4736537432e3db104e5b11cd5e5489daf7bb82ab988e5d1e7d272d325597\n",
            "  Stored in directory: /root/.cache/pip/wheels/d5/74/fc/38588a3d2e3f34f74588e6daa3aa5b0a322bd6f9420a707131\n",
            "Successfully built scikit-fuzzy\n",
            "Installing collected packages: scikit-fuzzy\n",
            "Successfully installed scikit-fuzzy-0.4.2\n"
          ]
        }
      ]
    },
    {
      "cell_type": "code",
      "metadata": {
        "id": "2nVaOpaqZsIW"
      },
      "source": [
        "import pandas as pd\n",
        "import numpy as np\n",
        "import skfuzzy as fuzz\n",
        "import matplotlib.pyplot as plt"
      ],
      "execution_count": null,
      "outputs": []
    },
    {
      "cell_type": "code",
      "metadata": {
        "colab": {
          "base_uri": "https://localhost:8080/",
          "height": 653
        },
        "id": "Q-8utgmHVKkL",
        "outputId": "af88a06a-449a-48e6-d2bf-4e13e3d944af"
      },
      "source": [
        "#Read data\n",
        "data = pd.read_excel(\"https://github.com/Leo-Rizky-Krisandi/Tugas-AI/blob/main/Data_mahasiswa.xlsx?raw=true\")\n",
        "data"
      ],
      "execution_count": null,
      "outputs": [
        {
          "output_type": "execute_result",
          "data": {
            "text/html": [
              "<div>\n",
              "<style scoped>\n",
              "    .dataframe tbody tr th:only-of-type {\n",
              "        vertical-align: middle;\n",
              "    }\n",
              "\n",
              "    .dataframe tbody tr th {\n",
              "        vertical-align: top;\n",
              "    }\n",
              "\n",
              "    .dataframe thead th {\n",
              "        text-align: right;\n",
              "    }\n",
              "</style>\n",
              "<table border=\"1\" class=\"dataframe\">\n",
              "  <thead>\n",
              "    <tr style=\"text-align: right;\">\n",
              "      <th></th>\n",
              "      <th>Id</th>\n",
              "      <th>Name</th>\n",
              "      <th>Ipk</th>\n",
              "      <th>Toefl</th>\n",
              "      <th>Tpa</th>\n",
              "    </tr>\n",
              "  </thead>\n",
              "  <tbody>\n",
              "    <tr>\n",
              "      <th>0</th>\n",
              "      <td>1</td>\n",
              "      <td>Ahmad</td>\n",
              "      <td>3.40</td>\n",
              "      <td>320</td>\n",
              "      <td>350</td>\n",
              "    </tr>\n",
              "    <tr>\n",
              "      <th>1</th>\n",
              "      <td>2</td>\n",
              "      <td>Yusuf</td>\n",
              "      <td>3.25</td>\n",
              "      <td>350</td>\n",
              "      <td>400</td>\n",
              "    </tr>\n",
              "    <tr>\n",
              "      <th>2</th>\n",
              "      <td>3</td>\n",
              "      <td>Dani</td>\n",
              "      <td>2.70</td>\n",
              "      <td>450</td>\n",
              "      <td>450</td>\n",
              "    </tr>\n",
              "    <tr>\n",
              "      <th>3</th>\n",
              "      <td>4</td>\n",
              "      <td>Maya</td>\n",
              "      <td>2.60</td>\n",
              "      <td>355</td>\n",
              "      <td>460</td>\n",
              "    </tr>\n",
              "    <tr>\n",
              "      <th>4</th>\n",
              "      <td>5</td>\n",
              "      <td>Lani</td>\n",
              "      <td>3.80</td>\n",
              "      <td>400</td>\n",
              "      <td>470</td>\n",
              "    </tr>\n",
              "    <tr>\n",
              "      <th>5</th>\n",
              "      <td>6</td>\n",
              "      <td>Miya</td>\n",
              "      <td>2.90</td>\n",
              "      <td>410</td>\n",
              "      <td>250</td>\n",
              "    </tr>\n",
              "    <tr>\n",
              "      <th>6</th>\n",
              "      <td>7</td>\n",
              "      <td>Bane</td>\n",
              "      <td>3.55</td>\n",
              "      <td>470</td>\n",
              "      <td>500</td>\n",
              "    </tr>\n",
              "    <tr>\n",
              "      <th>7</th>\n",
              "      <td>8</td>\n",
              "      <td>Lalyla</td>\n",
              "      <td>3.33</td>\n",
              "      <td>420</td>\n",
              "      <td>455</td>\n",
              "    </tr>\n",
              "    <tr>\n",
              "      <th>8</th>\n",
              "      <td>9</td>\n",
              "      <td>Faramis</td>\n",
              "      <td>3.12</td>\n",
              "      <td>410</td>\n",
              "      <td>460</td>\n",
              "    </tr>\n",
              "    <tr>\n",
              "      <th>9</th>\n",
              "      <td>10</td>\n",
              "      <td>Zilong</td>\n",
              "      <td>3.85</td>\n",
              "      <td>365</td>\n",
              "      <td>400</td>\n",
              "    </tr>\n",
              "    <tr>\n",
              "      <th>10</th>\n",
              "      <td>11</td>\n",
              "      <td>Argus</td>\n",
              "      <td>3.91</td>\n",
              "      <td>370</td>\n",
              "      <td>350</td>\n",
              "    </tr>\n",
              "    <tr>\n",
              "      <th>11</th>\n",
              "      <td>12</td>\n",
              "      <td>Alucard</td>\n",
              "      <td>2.99</td>\n",
              "      <td>380</td>\n",
              "      <td>355</td>\n",
              "    </tr>\n",
              "    <tr>\n",
              "      <th>12</th>\n",
              "      <td>13</td>\n",
              "      <td>Lancelot</td>\n",
              "      <td>3.00</td>\n",
              "      <td>465</td>\n",
              "      <td>360</td>\n",
              "    </tr>\n",
              "    <tr>\n",
              "      <th>13</th>\n",
              "      <td>14</td>\n",
              "      <td>Gusion</td>\n",
              "      <td>3.11</td>\n",
              "      <td>380</td>\n",
              "      <td>390</td>\n",
              "    </tr>\n",
              "    <tr>\n",
              "      <th>14</th>\n",
              "      <td>15</td>\n",
              "      <td>Barats</td>\n",
              "      <td>3.54</td>\n",
              "      <td>440</td>\n",
              "      <td>490</td>\n",
              "    </tr>\n",
              "    <tr>\n",
              "      <th>15</th>\n",
              "      <td>16</td>\n",
              "      <td>Moskov</td>\n",
              "      <td>3.60</td>\n",
              "      <td>430</td>\n",
              "      <td>600</td>\n",
              "    </tr>\n",
              "    <tr>\n",
              "      <th>16</th>\n",
              "      <td>17</td>\n",
              "      <td>Tigreal</td>\n",
              "      <td>3.76</td>\n",
              "      <td>450</td>\n",
              "      <td>620</td>\n",
              "    </tr>\n",
              "    <tr>\n",
              "      <th>17</th>\n",
              "      <td>18</td>\n",
              "      <td>Jhonson</td>\n",
              "      <td>3.88</td>\n",
              "      <td>590</td>\n",
              "      <td>400</td>\n",
              "    </tr>\n",
              "    <tr>\n",
              "      <th>18</th>\n",
              "      <td>19</td>\n",
              "      <td>Freya</td>\n",
              "      <td>4.00</td>\n",
              "      <td>600</td>\n",
              "      <td>690</td>\n",
              "    </tr>\n",
              "    <tr>\n",
              "      <th>19</th>\n",
              "      <td>20</td>\n",
              "      <td>Ruby</td>\n",
              "      <td>3.95</td>\n",
              "      <td>500</td>\n",
              "      <td>680</td>\n",
              "    </tr>\n",
              "  </tbody>\n",
              "</table>\n",
              "</div>"
            ],
            "text/plain": [
              "    Id      Name   Ipk  Toefl  Tpa\n",
              "0    1     Ahmad  3.40    320  350\n",
              "1    2     Yusuf  3.25    350  400\n",
              "2    3      Dani  2.70    450  450\n",
              "3    4      Maya  2.60    355  460\n",
              "4    5      Lani  3.80    400  470\n",
              "5    6      Miya  2.90    410  250\n",
              "6    7      Bane  3.55    470  500\n",
              "7    8    Lalyla  3.33    420  455\n",
              "8    9   Faramis  3.12    410  460\n",
              "9   10    Zilong  3.85    365  400\n",
              "10  11     Argus  3.91    370  350\n",
              "11  12   Alucard  2.99    380  355\n",
              "12  13  Lancelot  3.00    465  360\n",
              "13  14    Gusion  3.11    380  390\n",
              "14  15    Barats  3.54    440  490\n",
              "15  16    Moskov  3.60    430  600\n",
              "16  17   Tigreal  3.76    450  620\n",
              "17  18   Jhonson  3.88    590  400\n",
              "18  19     Freya  4.00    600  690\n",
              "19  20      Ruby  3.95    500  680"
            ]
          },
          "metadata": {},
          "execution_count": 28
        }
      ]
    },
    {
      "cell_type": "code",
      "metadata": {
        "id": "bfcBnlQDZE2h"
      },
      "source": [
        "#Generate universe variable\n",
        "# *Quality and service on subjective range [0,1]\n",
        "# *Tip has range of [o,25] in units of pertage points\n",
        "\n",
        "x_ipk= np.arange(0,5,1)\n",
        "x_toefl= np.arange(300,600,1)\n",
        "x_tpa= np.arange(0,750,1)"
      ],
      "execution_count": null,
      "outputs": []
    },
    {
      "cell_type": "code",
      "metadata": {
        "id": "mhnMoUuDavLq"
      },
      "source": [
        "#Generate fuzzy Membership functions\n",
        "ipk_rendah = fuzz.trapmf(x_ipk,[0,0,1,2])\n",
        "ipk_sedang = fuzz.trapmf(x_ipk,[1,2,3,4])\n",
        "ipk_tinggi = fuzz.trapmf(x_ipk,[3,4,4,4])\n"
      ],
      "execution_count": null,
      "outputs": []
    },
    {
      "cell_type": "code",
      "metadata": {
        "id": "aYUMFyYycyd6"
      },
      "source": [
        "toefl_rendah = fuzz.trapmf(x_toefl,[0,300,310,320])\n",
        "toefl_sedang = fuzz.trapmf(x_toefl,[350,380,420,460])\n",
        "toefl_tinggi = fuzz.trapmf(x_toefl,[480,520,560,600])\n"
      ],
      "execution_count": null,
      "outputs": []
    },
    {
      "cell_type": "code",
      "metadata": {
        "id": "jAcnCmEQdkgI"
      },
      "source": [
        "tpa_rendah = fuzz.trapmf(x_tpa,[0,0,300,400])\n",
        "tpa_sedang = fuzz.trapmf(x_tpa,[400,450,550,600])\n",
        "tpa_tinggi = fuzz.trapmf(x_tpa,[600,750,750,750])"
      ],
      "execution_count": null,
      "outputs": []
    },
    {
      "cell_type": "code",
      "metadata": {
        "id": "RGgWTB4ygXKU"
      },
      "source": [
        "R=0.2\n",
        "S=0.6\n",
        "T=1"
      ],
      "execution_count": null,
      "outputs": []
    },
    {
      "cell_type": "code",
      "metadata": {
        "colab": {
          "base_uri": "https://localhost:8080/",
          "height": 895
        },
        "id": "fgyY_hChgpOW",
        "outputId": "60e58a8a-113b-4144-e9b5-1e1e297f8370"
      },
      "source": [
        "#Visualize these universes and membership functions\n",
        "fig,(ax0,ax1,ax2,ax3)=plt.subplots(nrows=4,figsize=(8,15))\n",
        "ax0.plot(x_ipk, ipk_rendah, 'b', linewidth=1.5, label='Rendah')  \n",
        "ax0.plot(x_ipk, ipk_sedang, 'g', linewidth=1.5, label='Sedang')  \n",
        "ax0.plot(x_ipk, ipk_tinggi, 'r', linewidth=1.5, label='Tinggi')  \n",
        "ax0.set_title('Index Prestasi Mahasiswa')  \n",
        "ax0.legend()  \n",
        "\n",
        "ax1.plot(x_toefl, toefl_rendah, 'b', linewidth=1.5, label='Rendah')  \n",
        "ax1.plot(x_toefl, toefl_sedang, 'g', linewidth=1.5, label='Sedang')  \n",
        "ax1.plot(x_toefl, toefl_tinggi, 'r', linewidth=1.5, label='Tinggi')  \n",
        "ax1.set_title('Index TOEFL')  \n",
        "ax1.legend()  \n",
        "\n",
        "ax2.plot(x_tpa, tpa_rendah, 'b', linewidth=1.5, label='Rendah')  \n",
        "ax2.plot(x_tpa, tpa_sedang, 'g', linewidth=1.5, label='Sedang')  \n",
        "ax2.plot(x_tpa, tpa_tinggi, 'r', linewidth=1.5, label='Tinggi')  \n",
        "ax2.set_title('Index TPA')  \n",
        "ax2.legend()  \n",
        "\n",
        "ax3.plot([100, 100],[0, T], 'b', linewidth=1.5, label= 'Tinggi')  \n",
        "ax3.plot([60, 60],[0, S], 'g', linewidth=1.5, label= 'Sedang')  \n",
        "ax3.plot([20, 20],[0, R], 'r', linewidth=1.5, label= 'Rendah')  \n",
        "ax3.set_title('Singleton Sugeno')  \n",
        "ax3.legend()  \n",
        "\n",
        "\n",
        "\n"
      ],
      "execution_count": null,
      "outputs": [
        {
          "output_type": "execute_result",
          "data": {
            "text/plain": [
              "<matplotlib.legend.Legend at 0x7fe673f9ca10>"
            ]
          },
          "metadata": {},
          "execution_count": 40
        },
        {
          "output_type": "display_data",
          "data": {
            "image/png": "[encoded data removed]",
            "text/plain": [
              "<Figure size 576x1080 with 4 Axes>"
            ]
          },
          "metadata": {
            "needs_background": "light"
          }
        }
      ]
    },
    {
      "cell_type": "code",
      "metadata": {
        "colab": {
          "base_uri": "https://localhost:8080/"
        },
        "id": "wLZpPbLtlbQ2",
        "outputId": "2ea21862-34d2-4039-c198-29fa69bde3ea"
      },
      "source": [
        "##Family  \n",
        "R=20  \n",
        "S=60  \n",
        "T=100  \n",
        "M=[(R,R,R,R,S,T,R,T,T),(R,S,S,S,S,T,T,T,T),(R,T,S,T,S,T,T,T,T)]  \n",
        "\n",
        "##input crisp  \n",
        "in_ipk = 0.5\n",
        "in_toefl = 355\n",
        "in_tpa = 450  \n",
        "\n",
        "##fuzzification  \n",
        "in_1 =[]  \n",
        "in_1.append(fuzz.interp_membership(x_ipk, ipk_rendah, in_ipk))  \n",
        "in_1.append(fuzz.interp_membership(x_ipk, ipk_sedang, in_ipk))  \n",
        "in_1.append(fuzz.interp_membership(x_ipk, ipk_tinggi, in_ipk))  \n",
        "\t  \n",
        "in_2 =[]  \n",
        "in_2.append(fuzz.interp_membership(x_toefl, toefl_rendah, in_toefl))  \n",
        "in_2.append(fuzz.interp_membership(x_toefl, toefl_sedang, in_toefl))  \n",
        "in_2.append(fuzz.interp_membership(x_toefl, toefl_tinggi, in_toefl))  \n",
        "\t  \n",
        "in_3 =[]  \n",
        "in_3.append(fuzz.interp_membership(x_tpa, tpa_rendah, in_tpa))  \n",
        "in_3.append(fuzz.interp_membership(x_tpa, tpa_sedang, in_tpa))  \n",
        "in_3.append(fuzz.interp_membership(x_tpa, tpa_tinggi, in_tpa))  \n",
        "\n",
        "print(\"Derajat Keanggotaan Nilai IPK\")  \n",
        "if in_1 [0]>0 :\n",
        "  print(\"Rendah : \"+ str(in_1[0]))  ;\n",
        "if in_1 [1]>0 :\n",
        "  print(\"Sedang : \"+ str(in_1[1]))  \n",
        "if in_1 [2]>0  :\n",
        "  print(\"Tinggi : \"+ str(in_1[2]))  \t  \n",
        "print(\"\")  \n",
        "\n",
        "print(\"Derajat Keanggotaan Nilai TOEFL\")  \n",
        "if in_2[0]>0:\n",
        "  print(\"Rendah : \"+ str(in_2[0]))  \n",
        "if in_2[1]>0 : \n",
        "  print(\"Sedang : \"+ str(in_2[1]))  \n",
        "if in_2[2]>0  :\n",
        "  print(\"Tinggi : \"+ str(in_2[2]))\t  \n",
        "print(\"\") \n",
        "\n",
        "print(\"Derajat Keanggotaan Nilai TPA\")  \n",
        "if in_3[0]>0  :\n",
        "  print(\"Rendah : \"+ str(in_3[0]))  \n",
        "if in_3[1]>0  :\n",
        "  print(\"Sedang : \"+ str(in_3[1]))  \n",
        "if in_3[2]>0 :\n",
        "  print(\"Tinggi  \"+ str(in_3[2]))\n",
        "\n",
        "print(\"Matriks Nilai IPK\")  \n",
        "print(in_1)  \n",
        "print(\"\")  \n",
        "print(\"Matriks Nilai TOEFL\")  \n",
        "print(in_2)  \n",
        "print(\"Matriks Nilai TPA\")  \n",
        "print(in_3)\n"
      ],
      "execution_count": null,
      "outputs": [
        {
          "output_type": "stream",
          "name": "stdout",
          "text": [
            "Derajat Keanggotaan Nilai IPK\n",
            "Rendah : 1.0\n",
            "\n",
            "Derajat Keanggotaan Nilai TOEFL\n",
            "Sedang : 0.16666666666666666\n",
            "\n",
            "Derajat Keanggotaan Nilai TPA\n",
            "Sedang : 1.0\n",
            "Matriks Nilai IPK\n",
            "[1.0, 0.0, 0.0]\n",
            "\n",
            "Matriks Nilai TOEFL\n",
            "[0.0, 0.16666666666666666, 0.0]\n",
            "Matriks Nilai TPA\n",
            "[0.0, 1.0, 0.0]\n"
          ]
        }
      ]
    },
    {
      "cell_type": "code",
      "metadata": {
        "id": "wUyEoEqv4jE2"
      },
      "source": [
        "\t#Inferensi dan Defazzifikasi dengan Metode Sugeno  \n",
        "\t#Penyebut  \n",
        "\trul =[]  \n",
        "\tfor i in range(3) :  \n",
        "\t    for j in range (3) :  \n",
        "\t        rule = fuzz.relation_min(in_1[i], in_2[j])  \n",
        "\t        rul.append(rule)  \n",
        "\tpenyebut=np.sum(rul)  \n"
      ],
      "execution_count": null,
      "outputs": []
    },
    {
      "cell_type": "code",
      "metadata": {
        "id": "G2SDZ1Dp47ZZ"
      },
      "source": [
        "\t#Pembilang  \n",
        "\trul =[]  \n",
        "\tfor i in range(3) :  \n",
        "\t    for j in range(3) :  \n",
        "\t        rule=fuzz.relation_min(in_1[i], in_2[j])  \n",
        "\t        rulxx=rule*M[i][j]  \n",
        "\t        rul.append(rulxx)  \n",
        "\tpembilang=np.sum(rul)  \n",
        "\thasil = pembilang/penyebut  \n"
      ],
      "execution_count": null,
      "outputs": []
    },
    {
      "cell_type": "code",
      "metadata": {
        "id": "Dj1tIbS55NWe",
        "outputId": "670c1888-ccd2-4362-a564-4071ddd00ae7",
        "colab": {
          "base_uri": "https://localhost:8080/"
        }
      },
      "source": [
        "\tprint (\"Index Kelayakan Diterima : \"+ str(hasil))  \n",
        "\tif hasil >=0 and hasil <=20 :  \n",
        "\t    za = (abs(hasil - 0)/(20-0))*100  \n",
        "\t    zb = (abs(hasil - 20)/(20-0))*100  \n",
        "\t    print(\"Tidak Lulus : \"+ '{:2.2f}'.format(zb)+\" %\")  \n",
        "\t    print(\"Tidak Lulus : \"+ '{:2.2f}'.format(za)+\" %\")  \n",
        "\tif hasil >=20 and hasil <=50 :  \n",
        "\t    za = (abs(hasil - 20)/(50-20))*100  \n",
        "\t    zb = (abs(hasil - 50)/(50-20))*100  \n",
        "\t    print(\"Tidak Lulus : \"+ '{:2.2f}'.format(zb)+\" %\")  \n",
        "\t    print(\"Waiting List : \"+ '{:2.2f}'.format(za)+\" %\")  \n",
        "\tif hasil >=50 and hasil <=100 :  \n",
        "\t    za = (abs(hasil - 50)/(100-50))*100  \n",
        "\t    zb = (abs(hasil - 100)/(100-50))*100  \n",
        "\t    print(\"Waiting List : \"+ '{:2.2f}'.format(zb)+\" %\")  \n",
        "\t    print(\"Lulus : \"+ '{:2.2f}'.format(za)+\" %\")\n"
      ],
      "execution_count": null,
      "outputs": [
        {
          "output_type": "stream",
          "name": "stdout",
          "text": [
            "Index Kelayakan Diterima : 20.0\n",
            "Tidak Lulus : 0.00 %\n",
            "Tidak Lulus : 100.00 %\n",
            "Tidak Lulus : 100.00 %\n",
            "Waiting List : 0.00 %\n"
          ]
        }
      ]
    }
  ]
}